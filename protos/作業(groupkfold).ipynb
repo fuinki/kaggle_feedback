{
 "cells": [
  {
   "cell_type": "markdown",
   "id": "b36a04c3-bd6a-4b3a-ae06-279629b0e777",
   "metadata": {},
   "source": [
    "# GroupKFoldとかfor ind in folds[:,1]: についての確認    \n",
    "\n",
    "参考  \n",
    "https://runebook.dev/ja/docs/scikit_learn/modules/generated/sklearn.model_selection.groupkfold"
   ]
  },
  {
   "cell_type": "code",
   "execution_count": 1,
   "id": "49308b42-70ac-4eb5-b299-f60b80b906fc",
   "metadata": {},
   "outputs": [
    {
     "name": "stdout",
     "output_type": "stream",
     "text": [
      "TRAIN: [0 1 2 3] TEST: [4 5]\n",
      "[[1 2]\n",
      " [3 4]\n",
      " [5 6]\n",
      " [7 8]] [[ 9 10]\n",
      " [11 12]]\n",
      "TRAIN: [0 1 4 5] TEST: [2 3]\n",
      "[[ 1  2]\n",
      " [ 3  4]\n",
      " [ 9 10]\n",
      " [11 12]] [[5 6]\n",
      " [7 8]]\n",
      "TRAIN: [2 3 4 5] TEST: [0 1]\n",
      "[[ 5  6]\n",
      " [ 7  8]\n",
      " [ 9 10]\n",
      " [11 12]] [[1 2]\n",
      " [3 4]]\n"
     ]
    }
   ],
   "source": [
    "import numpy as np\n",
    "from sklearn.model_selection import GroupKFold\n",
    "X = np.array([[1, 2], [3, 4], [5, 6], [7, 8],[9,10],[11,12]])\n",
    "#y = np.array([1, 2, 3, 4])\n",
    "groups = np.array([0, 0, 2, 2,4,4])\n",
    "group_kfold = GroupKFold(n_splits=3)\n",
    "\n",
    "\n",
    "for train_index, test_index in group_kfold.split(X, groups=groups):\n",
    "    print(\"TRAIN:\", train_index, \"TEST:\", test_index)\n",
    "    X_train, X_test = X[train_index], X[test_index]\n",
    "    #y_train, y_test = y[train_index], y[test_index]\n",
    "    print(X_train, X_test)"
   ]
  },
  {
   "cell_type": "code",
   "execution_count": 2,
   "id": "8e98b64e-a0b7-4868-93bd-08583006b634",
   "metadata": {},
   "outputs": [
    {
     "name": "stdout",
     "output_type": "stream",
     "text": [
      "[[array([0, 1, 2, 3]) array([4, 5])]\n",
      " [array([0, 1, 4, 5]) array([2, 3])]\n",
      " [array([2, 3, 4, 5]) array([0, 1])]]\n"
     ]
    },
    {
     "name": "stderr",
     "output_type": "stream",
     "text": [
      "/opt/conda/lib/python3.7/site-packages/ipykernel_launcher.py:1: VisibleDeprecationWarning: Creating an ndarray from ragged nested sequences (which is a list-or-tuple of lists-or-tuples-or ndarrays with different lengths or shapes) is deprecated. If you meant to do this, you must specify 'dtype=object' when creating the ndarray\n",
      "  \"\"\"Entry point for launching an IPython kernel.\n"
     ]
    }
   ],
   "source": [
    "folds = np.array(list( group_kfold.split(X, groups=groups) ))\n",
    "print(folds)"
   ]
  },
  {
   "cell_type": "code",
   "execution_count": 3,
   "id": "7c4fcc55-d086-4955-90d4-1f335e345e88",
   "metadata": {},
   "outputs": [
    {
     "name": "stdout",
     "output_type": "stream",
     "text": [
      "[array([0, 1, 2, 3]) array([4, 5])]\n"
     ]
    }
   ],
   "source": [
    "print(folds[0])"
   ]
  },
  {
   "cell_type": "code",
   "execution_count": 4,
   "id": "1837e96e-c5ad-429c-9123-4238724b0b28",
   "metadata": {},
   "outputs": [
    {
     "name": "stdout",
     "output_type": "stream",
     "text": [
      "[array([0, 1, 4, 5]) array([2, 3])]\n"
     ]
    }
   ],
   "source": [
    "print(folds[1])"
   ]
  },
  {
   "cell_type": "code",
   "execution_count": 5,
   "id": "3f0af80f-b478-4a09-b8da-8918100a4d52",
   "metadata": {},
   "outputs": [
    {
     "name": "stdout",
     "output_type": "stream",
     "text": [
      "[array([4, 5]) array([2, 3]) array([0, 1])]\n"
     ]
    }
   ],
   "source": [
    "print(folds[:,1])"
   ]
  },
  {
   "cell_type": "code",
   "execution_count": 6,
   "id": "c9f7bff4-036e-4f9d-ba23-f843b0c90022",
   "metadata": {},
   "outputs": [
    {
     "name": "stdout",
     "output_type": "stream",
     "text": [
      "[4 5]\n",
      "[2 3]\n",
      "[0 1]\n"
     ]
    }
   ],
   "source": [
    "for ind in folds[:,1]:\n",
    "    print(ind)"
   ]
  },
  {
   "cell_type": "code",
   "execution_count": 7,
   "id": "ea39df01-5416-460c-9096-92c036045675",
   "metadata": {},
   "outputs": [
    {
     "name": "stdout",
     "output_type": "stream",
     "text": [
      "[4, 5, 2, 3, 0, 1]\n"
     ]
    }
   ],
   "source": [
    "gt_indices = []\n",
    "for ind in folds[:,1]: gt_indices.extend(ind)\n",
    "print(gt_indices)"
   ]
  },
  {
   "cell_type": "markdown",
   "id": "7ad1635c-824f-45d1-9d0c-b50043b3b832",
   "metadata": {},
   "source": [
    "# setとdifferenceの確認"
   ]
  },
  {
   "cell_type": "code",
   "execution_count": 8,
   "id": "8bb4c102-ed0d-4149-a7a0-3d40a1fcc5d6",
   "metadata": {},
   "outputs": [
    {
     "name": "stdout",
     "output_type": "stream",
     "text": [
      "{0, 1, 2, 3, 4, 5, 6, 7, 8, 9}\n"
     ]
    }
   ],
   "source": [
    "s = set(range(0,10))\n",
    "print(s)"
   ]
  },
  {
   "cell_type": "code",
   "execution_count": 9,
   "id": "aa6403e5-e2ee-4f48-9e31-6c551d5b0b87",
   "metadata": {},
   "outputs": [
    {
     "name": "stdout",
     "output_type": "stream",
     "text": [
      "{0, 1, 2, 5, 6, 7, 8, 9}\n"
     ]
    }
   ],
   "source": [
    "print(s.difference(set(range(3,5))))"
   ]
  },
  {
   "cell_type": "code",
   "execution_count": 10,
   "id": "6bea5125-44d3-4d99-893e-97014957881c",
   "metadata": {},
   "outputs": [
    {
     "name": "stdout",
     "output_type": "stream",
     "text": [
      "[0, 1, 2, 5, 6, 7, 8, 9]\n"
     ]
    }
   ],
   "source": [
    "print(list(s.difference(set(range(3,5)))))"
   ]
  },
  {
   "cell_type": "code",
   "execution_count": 11,
   "id": "f2d2b68c-71f4-4e23-99a7-adc6edd89d0f",
   "metadata": {},
   "outputs": [
    {
     "name": "stdout",
     "output_type": "stream",
     "text": [
      "[array([0, 1, 2]) array([5, 6, 7]) array([8, 9])]\n"
     ]
    },
    {
     "name": "stderr",
     "output_type": "stream",
     "text": [
      "/opt/conda/lib/python3.7/site-packages/ipykernel_launcher.py:1: VisibleDeprecationWarning: Creating an ndarray from ragged nested sequences (which is a list-or-tuple of lists-or-tuples-or ndarrays with different lengths or shapes) is deprecated. If you meant to do this, you must specify 'dtype=object' when creating the ndarray\n",
      "  \"\"\"Entry point for launching an IPython kernel.\n"
     ]
    }
   ],
   "source": [
    "out = np.array(np.array_split(list(s.difference(set(range(3,5)))),3))\n",
    "print(out)"
   ]
  },
  {
   "cell_type": "code",
   "execution_count": null,
   "id": "b52bb7d6-1827-4524-b5fb-c1d0c484b509",
   "metadata": {},
   "outputs": [],
   "source": []
  }
 ],
 "metadata": {
  "kernelspec": {
   "display_name": "Python 3 (ipykernel)",
   "language": "python",
   "name": "python3"
  },
  "language_info": {
   "codemirror_mode": {
    "name": "ipython",
    "version": 3
   },
   "file_extension": ".py",
   "mimetype": "text/x-python",
   "name": "python",
   "nbconvert_exporter": "python",
   "pygments_lexer": "ipython3",
   "version": "3.7.12"
  }
 },
 "nbformat": 4,
 "nbformat_minor": 5
}
